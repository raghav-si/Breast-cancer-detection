{
  "nbformat": 4,
  "nbformat_minor": 0,
  "metadata": {
    "colab": {
      "name": "Breast Cancer Detection .ipynb",
      "provenance": []
    },
    "kernelspec": {
      "name": "python3",
      "display_name": "Python 3"
    },
    "language_info": {
      "name": "python"
    }
  },
  "cells": [
    {
      "cell_type": "code",
      "metadata": {
        "id": "sP463y5GCe9-"
      },
      "source": [
        "import pandas as pd\n",
        "import numpy as np\n",
        "\n",
        "from sklearn.datasets import load_breast_cancer\n",
        "from sklearn.preprocessing import StandardScaler\n",
        "\n",
        "from keras.models import Sequential\n",
        "from keras.layers import Dense"
      ],
      "execution_count": 1,
      "outputs": []
    },
    {
      "cell_type": "code",
      "metadata": {
        "id": "iYtiYM1pDpWu"
      },
      "source": [
        "data = load_breast_cancer()"
      ],
      "execution_count": 2,
      "outputs": []
    },
    {
      "cell_type": "code",
      "metadata": {
        "id": "qOPs_bW2DpeQ",
        "colab": {
          "base_uri": "https://localhost:8080/"
        },
        "outputId": "79d2ce09-d99c-4541-8063-ac7abe03384c"
      },
      "source": [
        "data.keys()"
      ],
      "execution_count": 3,
      "outputs": [
        {
          "output_type": "execute_result",
          "data": {
            "text/plain": [
              "dict_keys(['data', 'target', 'target_names', 'DESCR', 'feature_names', 'filename'])"
            ]
          },
          "metadata": {},
          "execution_count": 3
        }
      ]
    },
    {
      "cell_type": "code",
      "metadata": {
        "id": "UBkpiRLADpgH",
        "colab": {
          "base_uri": "https://localhost:8080/"
        },
        "outputId": "25d7637e-659a-4859-f59d-5bc574373216"
      },
      "source": [
        "print(data['DESCR'])"
      ],
      "execution_count": 4,
      "outputs": [
        {
          "output_type": "stream",
          "name": "stdout",
          "text": [
            ".. _breast_cancer_dataset:\n",
            "\n",
            "Breast cancer wisconsin (diagnostic) dataset\n",
            "--------------------------------------------\n",
            "\n",
            "**Data Set Characteristics:**\n",
            "\n",
            "    :Number of Instances: 569\n",
            "\n",
            "    :Number of Attributes: 30 numeric, predictive attributes and the class\n",
            "\n",
            "    :Attribute Information:\n",
            "        - radius (mean of distances from center to points on the perimeter)\n",
            "        - texture (standard deviation of gray-scale values)\n",
            "        - perimeter\n",
            "        - area\n",
            "        - smoothness (local variation in radius lengths)\n",
            "        - compactness (perimeter^2 / area - 1.0)\n",
            "        - concavity (severity of concave portions of the contour)\n",
            "        - concave points (number of concave portions of the contour)\n",
            "        - symmetry \n",
            "        - fractal dimension (\"coastline approximation\" - 1)\n",
            "\n",
            "        The mean, standard error, and \"worst\" or largest (mean of the three\n",
            "        largest values) of these features were computed for each image,\n",
            "        resulting in 30 features.  For instance, field 3 is Mean Radius, field\n",
            "        13 is Radius SE, field 23 is Worst Radius.\n",
            "\n",
            "        - class:\n",
            "                - WDBC-Malignant\n",
            "                - WDBC-Benign\n",
            "\n",
            "    :Summary Statistics:\n",
            "\n",
            "    ===================================== ====== ======\n",
            "                                           Min    Max\n",
            "    ===================================== ====== ======\n",
            "    radius (mean):                        6.981  28.11\n",
            "    texture (mean):                       9.71   39.28\n",
            "    perimeter (mean):                     43.79  188.5\n",
            "    area (mean):                          143.5  2501.0\n",
            "    smoothness (mean):                    0.053  0.163\n",
            "    compactness (mean):                   0.019  0.345\n",
            "    concavity (mean):                     0.0    0.427\n",
            "    concave points (mean):                0.0    0.201\n",
            "    symmetry (mean):                      0.106  0.304\n",
            "    fractal dimension (mean):             0.05   0.097\n",
            "    radius (standard error):              0.112  2.873\n",
            "    texture (standard error):             0.36   4.885\n",
            "    perimeter (standard error):           0.757  21.98\n",
            "    area (standard error):                6.802  542.2\n",
            "    smoothness (standard error):          0.002  0.031\n",
            "    compactness (standard error):         0.002  0.135\n",
            "    concavity (standard error):           0.0    0.396\n",
            "    concave points (standard error):      0.0    0.053\n",
            "    symmetry (standard error):            0.008  0.079\n",
            "    fractal dimension (standard error):   0.001  0.03\n",
            "    radius (worst):                       7.93   36.04\n",
            "    texture (worst):                      12.02  49.54\n",
            "    perimeter (worst):                    50.41  251.2\n",
            "    area (worst):                         185.2  4254.0\n",
            "    smoothness (worst):                   0.071  0.223\n",
            "    compactness (worst):                  0.027  1.058\n",
            "    concavity (worst):                    0.0    1.252\n",
            "    concave points (worst):               0.0    0.291\n",
            "    symmetry (worst):                     0.156  0.664\n",
            "    fractal dimension (worst):            0.055  0.208\n",
            "    ===================================== ====== ======\n",
            "\n",
            "    :Missing Attribute Values: None\n",
            "\n",
            "    :Class Distribution: 212 - Malignant, 357 - Benign\n",
            "\n",
            "    :Creator:  Dr. William H. Wolberg, W. Nick Street, Olvi L. Mangasarian\n",
            "\n",
            "    :Donor: Nick Street\n",
            "\n",
            "    :Date: November, 1995\n",
            "\n",
            "This is a copy of UCI ML Breast Cancer Wisconsin (Diagnostic) datasets.\n",
            "https://goo.gl/U2Uwz2\n",
            "\n",
            "Features are computed from a digitized image of a fine needle\n",
            "aspirate (FNA) of a breast mass.  They describe\n",
            "characteristics of the cell nuclei present in the image.\n",
            "\n",
            "Separating plane described above was obtained using\n",
            "Multisurface Method-Tree (MSM-T) [K. P. Bennett, \"Decision Tree\n",
            "Construction Via Linear Programming.\" Proceedings of the 4th\n",
            "Midwest Artificial Intelligence and Cognitive Science Society,\n",
            "pp. 97-101, 1992], a classification method which uses linear\n",
            "programming to construct a decision tree.  Relevant features\n",
            "were selected using an exhaustive search in the space of 1-4\n",
            "features and 1-3 separating planes.\n",
            "\n",
            "The actual linear program used to obtain the separating plane\n",
            "in the 3-dimensional space is that described in:\n",
            "[K. P. Bennett and O. L. Mangasarian: \"Robust Linear\n",
            "Programming Discrimination of Two Linearly Inseparable Sets\",\n",
            "Optimization Methods and Software 1, 1992, 23-34].\n",
            "\n",
            "This database is also available through the UW CS ftp server:\n",
            "\n",
            "ftp ftp.cs.wisc.edu\n",
            "cd math-prog/cpo-dataset/machine-learn/WDBC/\n",
            "\n",
            ".. topic:: References\n",
            "\n",
            "   - W.N. Street, W.H. Wolberg and O.L. Mangasarian. Nuclear feature extraction \n",
            "     for breast tumor diagnosis. IS&T/SPIE 1993 International Symposium on \n",
            "     Electronic Imaging: Science and Technology, volume 1905, pages 861-870,\n",
            "     San Jose, CA, 1993.\n",
            "   - O.L. Mangasarian, W.N. Street and W.H. Wolberg. Breast cancer diagnosis and \n",
            "     prognosis via linear programming. Operations Research, 43(4), pages 570-577, \n",
            "     July-August 1995.\n",
            "   - W.H. Wolberg, W.N. Street, and O.L. Mangasarian. Machine learning techniques\n",
            "     to diagnose breast cancer from fine-needle aspirates. Cancer Letters 77 (1994) \n",
            "     163-171.\n"
          ]
        }
      ]
    },
    {
      "cell_type": "code",
      "metadata": {
        "id": "5nCbw8KWDpiN",
        "colab": {
          "base_uri": "https://localhost:8080/"
        },
        "outputId": "81256ebe-911a-4df3-e9c8-cbb4284ee463"
      },
      "source": [
        "data['data'].shape"
      ],
      "execution_count": 5,
      "outputs": [
        {
          "output_type": "execute_result",
          "data": {
            "text/plain": [
              "(569, 30)"
            ]
          },
          "metadata": {},
          "execution_count": 5
        }
      ]
    },
    {
      "cell_type": "code",
      "metadata": {
        "id": "M0E3Is8SDpkp",
        "colab": {
          "base_uri": "https://localhost:8080/"
        },
        "outputId": "ebcbd071-4766-4faf-9fc8-ea4b0c2ed135"
      },
      "source": [
        "data['feature_names']"
      ],
      "execution_count": 6,
      "outputs": [
        {
          "output_type": "execute_result",
          "data": {
            "text/plain": [
              "array(['mean radius', 'mean texture', 'mean perimeter', 'mean area',\n",
              "       'mean smoothness', 'mean compactness', 'mean concavity',\n",
              "       'mean concave points', 'mean symmetry', 'mean fractal dimension',\n",
              "       'radius error', 'texture error', 'perimeter error', 'area error',\n",
              "       'smoothness error', 'compactness error', 'concavity error',\n",
              "       'concave points error', 'symmetry error',\n",
              "       'fractal dimension error', 'worst radius', 'worst texture',\n",
              "       'worst perimeter', 'worst area', 'worst smoothness',\n",
              "       'worst compactness', 'worst concavity', 'worst concave points',\n",
              "       'worst symmetry', 'worst fractal dimension'], dtype='<U23')"
            ]
          },
          "metadata": {},
          "execution_count": 6
        }
      ]
    },
    {
      "cell_type": "code",
      "metadata": {
        "id": "kNmAURTFDpmu",
        "colab": {
          "base_uri": "https://localhost:8080/"
        },
        "outputId": "100bc2ff-79f7-46b0-bf3a-b50b32fe9799"
      },
      "source": [
        "data['data'][0]"
      ],
      "execution_count": 7,
      "outputs": [
        {
          "output_type": "execute_result",
          "data": {
            "text/plain": [
              "array([1.799e+01, 1.038e+01, 1.228e+02, 1.001e+03, 1.184e-01, 2.776e-01,\n",
              "       3.001e-01, 1.471e-01, 2.419e-01, 7.871e-02, 1.095e+00, 9.053e-01,\n",
              "       8.589e+00, 1.534e+02, 6.399e-03, 4.904e-02, 5.373e-02, 1.587e-02,\n",
              "       3.003e-02, 6.193e-03, 2.538e+01, 1.733e+01, 1.846e+02, 2.019e+03,\n",
              "       1.622e-01, 6.656e-01, 7.119e-01, 2.654e-01, 4.601e-01, 1.189e-01])"
            ]
          },
          "metadata": {},
          "execution_count": 7
        }
      ]
    },
    {
      "cell_type": "code",
      "metadata": {
        "id": "c6TKEr1iDpou",
        "colab": {
          "base_uri": "https://localhost:8080/"
        },
        "outputId": "b4b65dc4-1b45-443e-83a4-e1ea689e9b09"
      },
      "source": [
        "j = 0\n",
        "for i in data['feature_names']:\n",
        "  print(i,\":\",data['data'][0][j])\n",
        "  j+=1"
      ],
      "execution_count": 8,
      "outputs": [
        {
          "output_type": "stream",
          "name": "stdout",
          "text": [
            "mean radius : 17.99\n",
            "mean texture : 10.38\n",
            "mean perimeter : 122.8\n",
            "mean area : 1001.0\n",
            "mean smoothness : 0.1184\n",
            "mean compactness : 0.2776\n",
            "mean concavity : 0.3001\n",
            "mean concave points : 0.1471\n",
            "mean symmetry : 0.2419\n",
            "mean fractal dimension : 0.07871\n",
            "radius error : 1.095\n",
            "texture error : 0.9053\n",
            "perimeter error : 8.589\n",
            "area error : 153.4\n",
            "smoothness error : 0.006399\n",
            "compactness error : 0.04904\n",
            "concavity error : 0.05373\n",
            "concave points error : 0.01587\n",
            "symmetry error : 0.03003\n",
            "fractal dimension error : 0.006193\n",
            "worst radius : 25.38\n",
            "worst texture : 17.33\n",
            "worst perimeter : 184.6\n",
            "worst area : 2019.0\n",
            "worst smoothness : 0.1622\n",
            "worst compactness : 0.6656\n",
            "worst concavity : 0.7119\n",
            "worst concave points : 0.2654\n",
            "worst symmetry : 0.4601\n",
            "worst fractal dimension : 0.1189\n"
          ]
        }
      ]
    },
    {
      "cell_type": "code",
      "metadata": {
        "id": "HNFqBhFyDpqs"
      },
      "source": [
        "feature = data['data']"
      ],
      "execution_count": 9,
      "outputs": []
    },
    {
      "cell_type": "code",
      "metadata": {
        "id": "w36X6szwDptg"
      },
      "source": [
        "label = data['target']"
      ],
      "execution_count": 10,
      "outputs": []
    },
    {
      "cell_type": "code",
      "metadata": {
        "id": "6ePnRaHdDpwi",
        "colab": {
          "base_uri": "https://localhost:8080/"
        },
        "outputId": "b6e6f08c-3f3a-4c7b-d593-9fbed322dd8d"
      },
      "source": [
        "data['target_names']"
      ],
      "execution_count": 11,
      "outputs": [
        {
          "output_type": "execute_result",
          "data": {
            "text/plain": [
              "array(['malignant', 'benign'], dtype='<U9')"
            ]
          },
          "metadata": {},
          "execution_count": 11
        }
      ]
    },
    {
      "cell_type": "code",
      "metadata": {
        "colab": {
          "base_uri": "https://localhost:8080/"
        },
        "id": "aejV7FfK3Jtu",
        "outputId": "fd6d5f16-40a9-453f-b665-22f3582058f7"
      },
      "source": [
        "feature.shape"
      ],
      "execution_count": 12,
      "outputs": [
        {
          "output_type": "execute_result",
          "data": {
            "text/plain": [
              "(569, 30)"
            ]
          },
          "metadata": {},
          "execution_count": 12
        }
      ]
    },
    {
      "cell_type": "code",
      "metadata": {
        "colab": {
          "base_uri": "https://localhost:8080/"
        },
        "id": "Pr912BHT3J3X",
        "outputId": "7e99fe67-96c9-4704-b1ca-15f5a13a5a61"
      },
      "source": [
        "label.shape"
      ],
      "execution_count": 13,
      "outputs": [
        {
          "output_type": "execute_result",
          "data": {
            "text/plain": [
              "(569,)"
            ]
          },
          "metadata": {},
          "execution_count": 13
        }
      ]
    },
    {
      "cell_type": "code",
      "metadata": {
        "id": "Mnd9CoSP3J6Z"
      },
      "source": [
        "scale = StandardScaler()\n",
        "\n",
        "feature = scale.fit_transform(feature)"
      ],
      "execution_count": 14,
      "outputs": []
    },
    {
      "cell_type": "code",
      "metadata": {
        "colab": {
          "base_uri": "https://localhost:8080/"
        },
        "id": "WMZByExm3J9T",
        "outputId": "cb6da4d3-9a70-4d64-8273-45ab8ae23d16"
      },
      "source": [
        "j = 0\n",
        "for i in data['feature_names']:\n",
        "  print(i,\":\",feature[0][j])\n",
        "  j+=1"
      ],
      "execution_count": 15,
      "outputs": [
        {
          "output_type": "stream",
          "name": "stdout",
          "text": [
            "mean radius : 1.0970639814699807\n",
            "mean texture : -2.0733350146975935\n",
            "mean perimeter : 1.2699336881399383\n",
            "mean area : 0.9843749048031144\n",
            "mean smoothness : 1.568466329243428\n",
            "mean compactness : 3.2835146709868264\n",
            "mean concavity : 2.652873983743168\n",
            "mean concave points : 2.532475216403245\n",
            "mean symmetry : 2.2175150059646405\n",
            "mean fractal dimension : 2.255746885296269\n",
            "radius error : 2.4897339267376193\n",
            "texture error : -0.5652650590684639\n",
            "perimeter error : 2.833030865855184\n",
            "area error : 2.4875775569611043\n",
            "smoothness error : -0.21400164666895383\n",
            "compactness error : 1.3168615683959484\n",
            "concavity error : 0.72402615808036\n",
            "concave points error : 0.6608199414286064\n",
            "symmetry error : 1.1487566671861758\n",
            "fractal dimension error : 0.9070830809973359\n",
            "worst radius : 1.8866896251792757\n",
            "worst texture : -1.3592934737640827\n",
            "worst perimeter : 2.3036006236225606\n",
            "worst area : 2.0012374893299207\n",
            "worst smoothness : 1.3076862710715387\n",
            "worst compactness : 2.616665023512603\n",
            "worst concavity : 2.1095263465722556\n",
            "worst concave points : 2.296076127561788\n",
            "worst symmetry : 2.750622244124955\n",
            "worst fractal dimension : 1.9370146123781782\n"
          ]
        }
      ]
    },
    {
      "cell_type": "code",
      "metadata": {
        "colab": {
          "base_uri": "https://localhost:8080/"
        },
        "id": "oqsqoQHt3ZPb",
        "outputId": "b09ccf11-8bdd-4254-a601-6d9eb105220f"
      },
      "source": [
        "print(feature[568])\n",
        "print(data['target_names'][label[568]],label[568])"
      ],
      "execution_count": 16,
      "outputs": [
        {
          "output_type": "stream",
          "name": "stdout",
          "text": [
            "[-1.80840125  1.22179204 -1.81438851 -1.34778924 -3.11208479 -1.15075248\n",
            " -1.11487284 -1.26181958 -0.8200699  -0.56103238 -0.07027874  0.3830925\n",
            " -0.15744905 -0.46615196  0.04934236 -1.16351619 -1.05750068 -1.91344745\n",
            "  0.75282996 -0.382754   -1.41089258  0.76418957 -1.43273495 -1.07581292\n",
            " -1.85901852 -1.2075525  -1.30583065 -1.74506282 -0.04813821 -0.75120669]\n",
            "benign 1\n"
          ]
        }
      ]
    },
    {
      "cell_type": "code",
      "metadata": {
        "id": "BNKjoCBj3ZSc"
      },
      "source": [
        "df_frt = pd.DataFrame(feature , columns = data['feature_names'])\n",
        "df_lbl = pd.DataFrame(label , columns = ['label'])\n",
        "df = pd.concat([df_frt, df_lbl], axis=1)\n",
        "df = df.sample(frac = 1)\n",
        "\n",
        "feature = df.values[ : , : 30]\n",
        "label = df.values[ : ,30: ]"
      ],
      "execution_count": 17,
      "outputs": []
    },
    {
      "cell_type": "code",
      "metadata": {
        "colab": {
          "base_uri": "https://localhost:8080/",
          "height": 473
        },
        "id": "IfXYmMom3ZVb",
        "outputId": "e1ffa12a-d586-4b60-8440-b242e6c30075"
      },
      "source": [
        "df"
      ],
      "execution_count": 18,
      "outputs": [
        {
          "output_type": "execute_result",
          "data": {
            "text/html": [
              "<div>\n",
              "<style scoped>\n",
              "    .dataframe tbody tr th:only-of-type {\n",
              "        vertical-align: middle;\n",
              "    }\n",
              "\n",
              "    .dataframe tbody tr th {\n",
              "        vertical-align: top;\n",
              "    }\n",
              "\n",
              "    .dataframe thead th {\n",
              "        text-align: right;\n",
              "    }\n",
              "</style>\n",
              "<table border=\"1\" class=\"dataframe\">\n",
              "  <thead>\n",
              "    <tr style=\"text-align: right;\">\n",
              "      <th></th>\n",
              "      <th>mean radius</th>\n",
              "      <th>mean texture</th>\n",
              "      <th>mean perimeter</th>\n",
              "      <th>mean area</th>\n",
              "      <th>mean smoothness</th>\n",
              "      <th>mean compactness</th>\n",
              "      <th>mean concavity</th>\n",
              "      <th>mean concave points</th>\n",
              "      <th>mean symmetry</th>\n",
              "      <th>mean fractal dimension</th>\n",
              "      <th>radius error</th>\n",
              "      <th>texture error</th>\n",
              "      <th>perimeter error</th>\n",
              "      <th>area error</th>\n",
              "      <th>smoothness error</th>\n",
              "      <th>compactness error</th>\n",
              "      <th>concavity error</th>\n",
              "      <th>concave points error</th>\n",
              "      <th>symmetry error</th>\n",
              "      <th>fractal dimension error</th>\n",
              "      <th>worst radius</th>\n",
              "      <th>worst texture</th>\n",
              "      <th>worst perimeter</th>\n",
              "      <th>worst area</th>\n",
              "      <th>worst smoothness</th>\n",
              "      <th>worst compactness</th>\n",
              "      <th>worst concavity</th>\n",
              "      <th>worst concave points</th>\n",
              "      <th>worst symmetry</th>\n",
              "      <th>worst fractal dimension</th>\n",
              "      <th>label</th>\n",
              "    </tr>\n",
              "  </thead>\n",
              "  <tbody>\n",
              "    <tr>\n",
              "      <th>64</th>\n",
              "      <td>-0.411051</td>\n",
              "      <td>1.058897</td>\n",
              "      <td>-0.382205</td>\n",
              "      <td>-0.443365</td>\n",
              "      <td>1.127241</td>\n",
              "      <td>0.414261</td>\n",
              "      <td>0.301328</td>\n",
              "      <td>0.511001</td>\n",
              "      <td>0.340930</td>\n",
              "      <td>0.439796</td>\n",
              "      <td>0.073368</td>\n",
              "      <td>-0.070493</td>\n",
              "      <td>0.030168</td>\n",
              "      <td>-0.085302</td>\n",
              "      <td>0.246684</td>\n",
              "      <td>0.055994</td>\n",
              "      <td>-0.071742</td>\n",
              "      <td>0.179057</td>\n",
              "      <td>-0.507597</td>\n",
              "      <td>-0.073344</td>\n",
              "      <td>0.169975</td>\n",
              "      <td>1.269005</td>\n",
              "      <td>0.135192</td>\n",
              "      <td>0.013566</td>\n",
              "      <td>2.311528</td>\n",
              "      <td>0.965882</td>\n",
              "      <td>0.624693</td>\n",
              "      <td>0.867821</td>\n",
              "      <td>0.780165</td>\n",
              "      <td>1.061445</td>\n",
              "      <td>0</td>\n",
              "    </tr>\n",
              "    <tr>\n",
              "      <th>387</th>\n",
              "      <td>-0.070234</td>\n",
              "      <td>-0.728290</td>\n",
              "      <td>-0.148245</td>\n",
              "      <td>-0.165780</td>\n",
              "      <td>-1.857438</td>\n",
              "      <td>-1.061870</td>\n",
              "      <td>-0.858124</td>\n",
              "      <td>-1.042390</td>\n",
              "      <td>-0.747051</td>\n",
              "      <td>-1.142250</td>\n",
              "      <td>-0.545251</td>\n",
              "      <td>-1.079632</td>\n",
              "      <td>-0.572780</td>\n",
              "      <td>-0.378805</td>\n",
              "      <td>-1.104371</td>\n",
              "      <td>-0.633124</td>\n",
              "      <td>-0.398339</td>\n",
              "      <td>-0.775384</td>\n",
              "      <td>-0.493068</td>\n",
              "      <td>-0.690272</td>\n",
              "      <td>-0.157215</td>\n",
              "      <td>-0.929386</td>\n",
              "      <td>-0.226408</td>\n",
              "      <td>-0.237816</td>\n",
              "      <td>-2.083458</td>\n",
              "      <td>-0.833121</td>\n",
              "      <td>-0.782421</td>\n",
              "      <td>-1.054232</td>\n",
              "      <td>-0.580388</td>\n",
              "      <td>-0.981736</td>\n",
              "      <td>1</td>\n",
              "    </tr>\n",
              "    <tr>\n",
              "      <th>411</th>\n",
              "      <td>-0.876835</td>\n",
              "      <td>-0.572377</td>\n",
              "      <td>-0.867014</td>\n",
              "      <td>-0.801153</td>\n",
              "      <td>0.806996</td>\n",
              "      <td>-0.498443</td>\n",
              "      <td>-0.732448</td>\n",
              "      <td>-0.622129</td>\n",
              "      <td>-0.356400</td>\n",
              "      <td>0.085395</td>\n",
              "      <td>-0.752419</td>\n",
              "      <td>0.308704</td>\n",
              "      <td>-0.754456</td>\n",
              "      <td>-0.589582</td>\n",
              "      <td>-0.627685</td>\n",
              "      <td>-0.901115</td>\n",
              "      <td>-0.707363</td>\n",
              "      <td>-0.699633</td>\n",
              "      <td>-0.407102</td>\n",
              "      <td>-0.604031</td>\n",
              "      <td>-0.799171</td>\n",
              "      <td>0.124213</td>\n",
              "      <td>-0.814083</td>\n",
              "      <td>-0.719308</td>\n",
              "      <td>0.198638</td>\n",
              "      <td>-0.674722</td>\n",
              "      <td>-0.793935</td>\n",
              "      <td>-0.613574</td>\n",
              "      <td>0.157320</td>\n",
              "      <td>-0.284606</td>\n",
              "      <td>1</td>\n",
              "    </tr>\n",
              "    <tr>\n",
              "      <th>78</th>\n",
              "      <td>1.719055</td>\n",
              "      <td>1.089149</td>\n",
              "      <td>2.130809</td>\n",
              "      <td>1.678336</td>\n",
              "      <td>2.294354</td>\n",
              "      <td>4.568425</td>\n",
              "      <td>3.598263</td>\n",
              "      <td>2.875535</td>\n",
              "      <td>3.995524</td>\n",
              "      <td>2.639918</td>\n",
              "      <td>1.900350</td>\n",
              "      <td>1.212248</td>\n",
              "      <td>2.862733</td>\n",
              "      <td>1.673514</td>\n",
              "      <td>1.113052</td>\n",
              "      <td>2.396089</td>\n",
              "      <td>2.559931</td>\n",
              "      <td>2.292649</td>\n",
              "      <td>7.071917</td>\n",
              "      <td>0.829163</td>\n",
              "      <td>1.470454</td>\n",
              "      <td>0.984029</td>\n",
              "      <td>1.877663</td>\n",
              "      <td>1.305104</td>\n",
              "      <td>1.382207</td>\n",
              "      <td>2.303684</td>\n",
              "      <td>2.379147</td>\n",
              "      <td>2.073768</td>\n",
              "      <td>4.107940</td>\n",
              "      <td>0.869706</td>\n",
              "      <td>0</td>\n",
              "    </tr>\n",
              "    <tr>\n",
              "      <th>142</th>\n",
              "      <td>-0.766069</td>\n",
              "      <td>-0.460677</td>\n",
              "      <td>-0.754153</td>\n",
              "      <td>-0.730619</td>\n",
              "      <td>0.913744</td>\n",
              "      <td>-0.179679</td>\n",
              "      <td>-0.859881</td>\n",
              "      <td>-0.781794</td>\n",
              "      <td>-0.608315</td>\n",
              "      <td>0.400103</td>\n",
              "      <td>-0.436253</td>\n",
              "      <td>1.253978</td>\n",
              "      <td>-0.459913</td>\n",
              "      <td>-0.417088</td>\n",
              "      <td>-0.125665</td>\n",
              "      <td>-0.454278</td>\n",
              "      <td>-0.673542</td>\n",
              "      <td>-0.369211</td>\n",
              "      <td>0.275781</td>\n",
              "      <td>-0.101713</td>\n",
              "      <td>-0.722550</td>\n",
              "      <td>0.176323</td>\n",
              "      <td>-0.732768</td>\n",
              "      <td>-0.663758</td>\n",
              "      <td>0.391516</td>\n",
              "      <td>-0.477519</td>\n",
              "      <td>-0.936038</td>\n",
              "      <td>-0.770256</td>\n",
              "      <td>-0.512441</td>\n",
              "      <td>-0.165462</td>\n",
              "      <td>1</td>\n",
              "    </tr>\n",
              "    <tr>\n",
              "      <th>...</th>\n",
              "      <td>...</td>\n",
              "      <td>...</td>\n",
              "      <td>...</td>\n",
              "      <td>...</td>\n",
              "      <td>...</td>\n",
              "      <td>...</td>\n",
              "      <td>...</td>\n",
              "      <td>...</td>\n",
              "      <td>...</td>\n",
              "      <td>...</td>\n",
              "      <td>...</td>\n",
              "      <td>...</td>\n",
              "      <td>...</td>\n",
              "      <td>...</td>\n",
              "      <td>...</td>\n",
              "      <td>...</td>\n",
              "      <td>...</td>\n",
              "      <td>...</td>\n",
              "      <td>...</td>\n",
              "      <td>...</td>\n",
              "      <td>...</td>\n",
              "      <td>...</td>\n",
              "      <td>...</td>\n",
              "      <td>...</td>\n",
              "      <td>...</td>\n",
              "      <td>...</td>\n",
              "      <td>...</td>\n",
              "      <td>...</td>\n",
              "      <td>...</td>\n",
              "      <td>...</td>\n",
              "      <td>...</td>\n",
              "    </tr>\n",
              "    <tr>\n",
              "      <th>321</th>\n",
              "      <td>1.713375</td>\n",
              "      <td>0.086183</td>\n",
              "      <td>1.611812</td>\n",
              "      <td>1.760815</td>\n",
              "      <td>-1.150054</td>\n",
              "      <td>-0.354411</td>\n",
              "      <td>0.335226</td>\n",
              "      <td>0.731023</td>\n",
              "      <td>0.424902</td>\n",
              "      <td>-1.678104</td>\n",
              "      <td>0.676106</td>\n",
              "      <td>-0.962606</td>\n",
              "      <td>0.495991</td>\n",
              "      <td>0.759343</td>\n",
              "      <td>-0.835027</td>\n",
              "      <td>-0.654921</td>\n",
              "      <td>-0.180497</td>\n",
              "      <td>0.109307</td>\n",
              "      <td>0.168021</td>\n",
              "      <td>-0.834386</td>\n",
              "      <td>1.406258</td>\n",
              "      <td>-0.431084</td>\n",
              "      <td>1.278968</td>\n",
              "      <td>1.364873</td>\n",
              "      <td>-1.182192</td>\n",
              "      <td>-0.639734</td>\n",
              "      <td>-0.055596</td>\n",
              "      <td>0.424727</td>\n",
              "      <td>0.249533</td>\n",
              "      <td>-1.364106</td>\n",
              "      <td>0</td>\n",
              "    </tr>\n",
              "    <tr>\n",
              "      <th>434</th>\n",
              "      <td>0.208100</td>\n",
              "      <td>-0.546779</td>\n",
              "      <td>0.120315</td>\n",
              "      <td>0.053500</td>\n",
              "      <td>-0.506718</td>\n",
              "      <td>-0.636788</td>\n",
              "      <td>-0.694784</td>\n",
              "      <td>-0.519727</td>\n",
              "      <td>-0.871183</td>\n",
              "      <td>-0.817619</td>\n",
              "      <td>-0.369482</td>\n",
              "      <td>-0.995265</td>\n",
              "      <td>-0.620798</td>\n",
              "      <td>-0.361204</td>\n",
              "      <td>-0.428344</td>\n",
              "      <td>-0.493401</td>\n",
              "      <td>-0.573077</td>\n",
              "      <td>-0.570189</td>\n",
              "      <td>-0.609303</td>\n",
              "      <td>-0.615379</td>\n",
              "      <td>0.008451</td>\n",
              "      <td>-0.836565</td>\n",
              "      <td>-0.147774</td>\n",
              "      <td>-0.181211</td>\n",
              "      <td>-0.463284</td>\n",
              "      <td>-0.631464</td>\n",
              "      <td>-0.720533</td>\n",
              "      <td>-0.531351</td>\n",
              "      <td>-0.607890</td>\n",
              "      <td>-0.868688</td>\n",
              "      <td>1</td>\n",
              "    </tr>\n",
              "    <tr>\n",
              "      <th>238</th>\n",
              "      <td>0.026330</td>\n",
              "      <td>1.992051</td>\n",
              "      <td>0.023930</td>\n",
              "      <td>-0.088136</td>\n",
              "      <td>-1.005588</td>\n",
              "      <td>-0.008357</td>\n",
              "      <td>0.269940</td>\n",
              "      <td>-0.124821</td>\n",
              "      <td>-1.714551</td>\n",
              "      <td>-0.213719</td>\n",
              "      <td>-0.251822</td>\n",
              "      <td>2.008745</td>\n",
              "      <td>-0.376748</td>\n",
              "      <td>-0.228313</td>\n",
              "      <td>-0.244670</td>\n",
              "      <td>0.166096</td>\n",
              "      <td>0.219045</td>\n",
              "      <td>-0.273508</td>\n",
              "      <td>-1.052451</td>\n",
              "      <td>-0.077883</td>\n",
              "      <td>-0.107515</td>\n",
              "      <td>2.420311</td>\n",
              "      <td>-0.141817</td>\n",
              "      <td>-0.204943</td>\n",
              "      <td>-1.063835</td>\n",
              "      <td>-0.074206</td>\n",
              "      <td>0.164131</td>\n",
              "      <td>-0.493589</td>\n",
              "      <td>-1.635181</td>\n",
              "      <td>-0.331709</td>\n",
              "      <td>1</td>\n",
              "    </tr>\n",
              "    <tr>\n",
              "      <th>473</th>\n",
              "      <td>-0.527497</td>\n",
              "      <td>2.485389</td>\n",
              "      <td>-0.599278</td>\n",
              "      <td>-0.538926</td>\n",
              "      <td>-1.378495</td>\n",
              "      <td>-1.333445</td>\n",
              "      <td>-1.114873</td>\n",
              "      <td>-1.261820</td>\n",
              "      <td>-0.403862</td>\n",
              "      <td>-0.453294</td>\n",
              "      <td>0.145552</td>\n",
              "      <td>4.409122</td>\n",
              "      <td>0.008881</td>\n",
              "      <td>-0.114565</td>\n",
              "      <td>0.099344</td>\n",
              "      <td>-0.963264</td>\n",
              "      <td>-1.057501</td>\n",
              "      <td>-1.913447</td>\n",
              "      <td>1.315845</td>\n",
              "      <td>-0.249231</td>\n",
              "      <td>-0.583805</td>\n",
              "      <td>2.014830</td>\n",
              "      <td>-0.660686</td>\n",
              "      <td>-0.565491</td>\n",
              "      <td>-1.672278</td>\n",
              "      <td>-1.285861</td>\n",
              "      <td>-1.305831</td>\n",
              "      <td>-1.745063</td>\n",
              "      <td>-0.795553</td>\n",
              "      <td>-0.915238</td>\n",
              "      <td>1</td>\n",
              "    </tr>\n",
              "    <tr>\n",
              "      <th>274</th>\n",
              "      <td>1.080023</td>\n",
              "      <td>1.207830</td>\n",
              "      <td>0.956888</td>\n",
              "      <td>0.978402</td>\n",
              "      <td>-0.555822</td>\n",
              "      <td>-0.645696</td>\n",
              "      <td>-0.399365</td>\n",
              "      <td>-0.038153</td>\n",
              "      <td>-0.998966</td>\n",
              "      <td>-1.091216</td>\n",
              "      <td>0.057848</td>\n",
              "      <td>0.392164</td>\n",
              "      <td>-0.050027</td>\n",
              "      <td>0.120414</td>\n",
              "      <td>-0.532348</td>\n",
              "      <td>-0.770613</td>\n",
              "      <td>-0.519694</td>\n",
              "      <td>-0.531097</td>\n",
              "      <td>-0.769127</td>\n",
              "      <td>-0.394858</td>\n",
              "      <td>0.963102</td>\n",
              "      <td>1.467675</td>\n",
              "      <td>0.829202</td>\n",
              "      <td>0.772457</td>\n",
              "      <td>-0.038076</td>\n",
              "      <td>-0.468613</td>\n",
              "      <td>-0.307946</td>\n",
              "      <td>-0.015321</td>\n",
              "      <td>-0.641864</td>\n",
              "      <td>-0.247477</td>\n",
              "      <td>0</td>\n",
              "    </tr>\n",
              "  </tbody>\n",
              "</table>\n",
              "<p>569 rows × 31 columns</p>\n",
              "</div>"
            ],
            "text/plain": [
              "     mean radius  mean texture  ...  worst fractal dimension  label\n",
              "64     -0.411051      1.058897  ...                 1.061445      0\n",
              "387    -0.070234     -0.728290  ...                -0.981736      1\n",
              "411    -0.876835     -0.572377  ...                -0.284606      1\n",
              "78      1.719055      1.089149  ...                 0.869706      0\n",
              "142    -0.766069     -0.460677  ...                -0.165462      1\n",
              "..           ...           ...  ...                      ...    ...\n",
              "321     1.713375      0.086183  ...                -1.364106      0\n",
              "434     0.208100     -0.546779  ...                -0.868688      1\n",
              "238     0.026330      1.992051  ...                -0.331709      1\n",
              "473    -0.527497      2.485389  ...                -0.915238      1\n",
              "274     1.080023      1.207830  ...                -0.247477      0\n",
              "\n",
              "[569 rows x 31 columns]"
            ]
          },
          "metadata": {},
          "execution_count": 18
        }
      ]
    },
    {
      "cell_type": "code",
      "metadata": {
        "id": "Yr2-E1HU3ZXu"
      },
      "source": [
        "#500 Training\n",
        "X_train = feature[:500]\n",
        "y_train = label[:500]\n",
        "\n",
        "#35 Validation\n",
        "X_val = feature[500:535]\n",
        "y_val = label[500:535]\n",
        "\n",
        "#34 Testing\n",
        "X_test = feature[535:]\n",
        "y_test = label[535:]"
      ],
      "execution_count": 19,
      "outputs": []
    },
    {
      "cell_type": "code",
      "metadata": {
        "id": "oH9GVbVl3Zal"
      },
      "source": [
        "model = Sequential()\n",
        "\n",
        "model.add(Dense(32, activation = 'relu', input_dim = 30))\n",
        "model.add(Dense(64, activation = 'relu'))\n",
        "model.add(Dense(128, activation = 'relu'))\n",
        "model.add(Dense(64, activation = 'relu'))\n",
        "model.add(Dense(32, activation = 'relu'))\n",
        "model.add(Dense(1, activation = 'sigmoid'))\n",
        "\n",
        "model.compile( loss = 'binary_crossentropy' , optimizer = 'adam' , metrics = ['accuracy'])"
      ],
      "execution_count": 20,
      "outputs": []
    },
    {
      "cell_type": "code",
      "metadata": {
        "colab": {
          "base_uri": "https://localhost:8080/"
        },
        "id": "1ou3qHLW3ZdH",
        "outputId": "a71b6d4a-9046-4eaf-9558-d0924620d8c6"
      },
      "source": [
        "model.fit( X_train , y_train, epochs = 10, batch_size = 5, validation_data = (X_val, y_val))"
      ],
      "execution_count": 21,
      "outputs": [
        {
          "output_type": "stream",
          "name": "stdout",
          "text": [
            "Epoch 1/10\n",
            "100/100 [==============================] - 1s 4ms/step - loss: 0.2495 - accuracy: 0.9000 - val_loss: 0.0970 - val_accuracy: 0.9429\n",
            "Epoch 2/10\n",
            "100/100 [==============================] - 0s 2ms/step - loss: 0.0847 - accuracy: 0.9760 - val_loss: 0.0969 - val_accuracy: 0.9429\n",
            "Epoch 3/10\n",
            "100/100 [==============================] - 0s 2ms/step - loss: 0.0603 - accuracy: 0.9780 - val_loss: 0.0718 - val_accuracy: 0.9714\n",
            "Epoch 4/10\n",
            "100/100 [==============================] - 0s 2ms/step - loss: 0.0566 - accuracy: 0.9820 - val_loss: 0.0478 - val_accuracy: 0.9714\n",
            "Epoch 5/10\n",
            "100/100 [==============================] - 0s 2ms/step - loss: 0.0413 - accuracy: 0.9900 - val_loss: 0.0359 - val_accuracy: 1.0000\n",
            "Epoch 6/10\n",
            "100/100 [==============================] - 0s 2ms/step - loss: 0.0334 - accuracy: 0.9900 - val_loss: 0.0199 - val_accuracy: 1.0000\n",
            "Epoch 7/10\n",
            "100/100 [==============================] - 0s 2ms/step - loss: 0.0323 - accuracy: 0.9900 - val_loss: 0.0383 - val_accuracy: 0.9714\n",
            "Epoch 8/10\n",
            "100/100 [==============================] - 0s 2ms/step - loss: 0.0254 - accuracy: 0.9920 - val_loss: 0.0180 - val_accuracy: 1.0000\n",
            "Epoch 9/10\n",
            "100/100 [==============================] - 0s 2ms/step - loss: 0.0181 - accuracy: 0.9920 - val_loss: 0.0134 - val_accuracy: 1.0000\n",
            "Epoch 10/10\n",
            "100/100 [==============================] - 0s 2ms/step - loss: 0.0111 - accuracy: 0.9940 - val_loss: 0.0315 - val_accuracy: 0.9714\n"
          ]
        },
        {
          "output_type": "execute_result",
          "data": {
            "text/plain": [
              "<keras.callbacks.History at 0x7ffb267730d0>"
            ]
          },
          "metadata": {},
          "execution_count": 21
        }
      ]
    },
    {
      "cell_type": "code",
      "metadata": {
        "colab": {
          "base_uri": "https://localhost:8080/"
        },
        "id": "w-lKQVuS3KDb",
        "outputId": "f3aac1a7-9d17-469e-84f1-5d6c673f32c1"
      },
      "source": [
        "model.evaluate(X_test , y_test)"
      ],
      "execution_count": 22,
      "outputs": [
        {
          "output_type": "stream",
          "name": "stdout",
          "text": [
            "2/2 [==============================] - 0s 5ms/step - loss: 0.0062 - accuracy: 1.0000\n"
          ]
        },
        {
          "output_type": "execute_result",
          "data": {
            "text/plain": [
              "[0.006179609335958958, 1.0]"
            ]
          },
          "metadata": {},
          "execution_count": 22
        }
      ]
    },
    {
      "cell_type": "code",
      "metadata": {
        "colab": {
          "base_uri": "https://localhost:8080/"
        },
        "id": "3SpvobLl38qR",
        "outputId": "c9a8b355-d4bb-4607-f31f-30696626d45b"
      },
      "source": [
        "model.evaluate(X_val , y_val)"
      ],
      "execution_count": 23,
      "outputs": [
        {
          "output_type": "stream",
          "name": "stdout",
          "text": [
            "2/2 [==============================] - 0s 7ms/step - loss: 0.0315 - accuracy: 0.9714\n"
          ]
        },
        {
          "output_type": "execute_result",
          "data": {
            "text/plain": [
              "[0.03153282031416893, 0.9714285731315613]"
            ]
          },
          "metadata": {},
          "execution_count": 23
        }
      ]
    },
    {
      "cell_type": "code",
      "metadata": {
        "colab": {
          "base_uri": "https://localhost:8080/"
        },
        "id": "FAH4e9KU38tI",
        "outputId": "1a950ac0-dc9f-4429-c331-cbe074a3ed49"
      },
      "source": [
        "for i in range(30):\n",
        "  sample = X_test[i]\n",
        "  sample = np.reshape(sample, (1,30))\n",
        "\n",
        "  if (model.predict(sample)[0][0] > 0.5):\n",
        "    print(\"-Benign\")\n",
        "  else:\n",
        "    print(\"-Malignant\")\n",
        "\n",
        "  if (y_test[i] == 1):\n",
        "    print(\"*Banign\")\n",
        "  else:\n",
        "    print(\"*Melignant\")\n",
        "  print(\"-----------\")"
      ],
      "execution_count": 24,
      "outputs": [
        {
          "output_type": "stream",
          "name": "stdout",
          "text": [
            "-Malignant\n",
            "*Melignant\n",
            "-----------\n",
            "-Malignant\n",
            "*Melignant\n",
            "-----------\n",
            "-Malignant\n",
            "*Melignant\n",
            "-----------\n",
            "-Benign\n",
            "*Banign\n",
            "-----------\n",
            "-Benign\n",
            "*Banign\n",
            "-----------\n",
            "-Benign\n",
            "*Banign\n",
            "-----------\n",
            "-Benign\n",
            "*Banign\n",
            "-----------\n",
            "-Benign\n",
            "*Banign\n",
            "-----------\n",
            "-Malignant\n",
            "*Melignant\n",
            "-----------\n",
            "-Malignant\n",
            "*Melignant\n",
            "-----------\n",
            "-Benign\n",
            "*Banign\n",
            "-----------\n",
            "-Malignant\n",
            "*Melignant\n",
            "-----------\n",
            "-Benign\n",
            "*Banign\n",
            "-----------\n",
            "-Malignant\n",
            "*Melignant\n",
            "-----------\n",
            "-Malignant\n",
            "*Melignant\n",
            "-----------\n",
            "-Malignant\n",
            "*Melignant\n",
            "-----------\n",
            "-Malignant\n",
            "*Melignant\n",
            "-----------\n",
            "-Benign\n",
            "*Banign\n",
            "-----------\n",
            "-Benign\n",
            "*Banign\n",
            "-----------\n",
            "-Malignant\n",
            "*Melignant\n",
            "-----------\n",
            "-Benign\n",
            "*Banign\n",
            "-----------\n",
            "-Benign\n",
            "*Banign\n",
            "-----------\n",
            "-Benign\n",
            "*Banign\n",
            "-----------\n",
            "-Benign\n",
            "*Banign\n",
            "-----------\n",
            "-Benign\n",
            "*Banign\n",
            "-----------\n",
            "-Malignant\n",
            "*Melignant\n",
            "-----------\n",
            "-Benign\n",
            "*Banign\n",
            "-----------\n",
            "-Malignant\n",
            "*Melignant\n",
            "-----------\n",
            "-Malignant\n",
            "*Melignant\n",
            "-----------\n",
            "-Malignant\n",
            "*Melignant\n",
            "-----------\n"
          ]
        }
      ]
    },
    {
      "cell_type": "code",
      "metadata": {
        "colab": {
          "base_uri": "https://localhost:8080/"
        },
        "id": "zgLcdTmx38v9",
        "outputId": "a0e80b45-b3a4-4811-a017-7e76d5aac792"
      },
      "source": [
        "t = 0\n",
        "for i in y_val:\n",
        "  if (i == 1):\n",
        "    t += 1\n",
        "\n",
        "print(t)"
      ],
      "execution_count": 25,
      "outputs": [
        {
          "output_type": "stream",
          "name": "stdout",
          "text": [
            "23\n"
          ]
        }
      ]
    },
    {
      "cell_type": "code",
      "metadata": {
        "colab": {
          "base_uri": "https://localhost:8080/"
        },
        "id": "emSquTRN38yt",
        "outputId": "892b4894-e691-4465-dbd0-e85dfe0350d4"
      },
      "source": [
        "t = 0\n",
        "for i in y_test:\n",
        "  if (i == 1):\n",
        "    t += 1\n",
        "\n",
        "print(t)"
      ],
      "execution_count": 26,
      "outputs": [
        {
          "output_type": "stream",
          "name": "stdout",
          "text": [
            "18\n"
          ]
        }
      ]
    },
    {
      "cell_type": "code",
      "metadata": {
        "colab": {
          "base_uri": "https://localhost:8080/"
        },
        "id": "nCudHgMX381o",
        "outputId": "aa19d2ee-70a6-4e24-aa0f-491cb81b81ed"
      },
      "source": [
        "X_test[0] * -.1"
      ],
      "execution_count": 27,
      "outputs": [
        {
          "output_type": "execute_result",
          "data": {
            "text/plain": [
              "array([ 0.08654741,  0.01069633,  0.07689812,  0.08341443, -0.17961957,\n",
              "       -0.21047327, -0.10056618, -0.03804833, -0.14033546, -0.23677376,\n",
              "        0.0699364 ,  0.03444594,  0.05678294,  0.05796808, -0.01213453,\n",
              "       -0.11184537, -0.04637435, -0.025854  ,  0.03828864, -0.02421172,\n",
              "        0.06272923, -0.11631569,  0.04617166,  0.06547928, -0.37712634,\n",
              "       -0.43488735, -0.27250486, -0.20981304, -0.20274743, -0.31229131])"
            ]
          },
          "metadata": {},
          "execution_count": 27
        }
      ]
    },
    {
      "cell_type": "code",
      "metadata": {
        "id": "d73-Fg364X1q"
      },
      "source": [
        "348/350"
      ],
      "execution_count": null,
      "outputs": []
    },
    {
      "cell_type": "code",
      "metadata": {
        "id": "sHn-r-Vq4X4s"
      },
      "source": [
        "347/350"
      ],
      "execution_count": null,
      "outputs": []
    },
    {
      "cell_type": "code",
      "metadata": {
        "id": "aT9PDvxM4X7S"
      },
      "source": [
        "32/35"
      ],
      "execution_count": null,
      "outputs": []
    }
  ]
}